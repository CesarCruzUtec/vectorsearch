{
 "cells": [
  {
   "cell_type": "code",
   "execution_count": 11,
   "metadata": {},
   "outputs": [
    {
     "data": {
      "text/html": [
       "<pre style=\"white-space:pre;overflow-x:auto;line-height:normal;font-family:Menlo,'DejaVu Sans Mono',consolas,'Courier New',monospace\">Índice FAISS cargado desde disco.\n",
       "</pre>\n"
      ],
      "text/plain": [
       "Índice FAISS cargado desde disco.\n"
      ]
     },
     "metadata": {},
     "output_type": "display_data"
    }
   ],
   "source": [
    "import os\n",
    "import json\n",
    "import faiss\n",
    "import tiktoken\n",
    "import numpy as np\n",
    "import pandas as pd\n",
    "\n",
    "from openai import OpenAI\n",
    "from bs4 import BeautifulSoup\n",
    "from rich import print, inspect\n",
    "\n",
    "relevant_columns = {\n",
    "    \"_SkuId (Not changeable)\": (\"ID SKU\", \"id_sku\"),\n",
    "    \"_SkuName\": (\"Nombre\", \"nombre\"),\n",
    "    \"_ProductShortDescription\": (\"Descripción Corta\", \"descripcion_corta\"),\n",
    "    \"_ProductDescription\": (\"Descripción Larga\", \"descripcion_larga\"),\n",
    "    \"_Keywords\": (\"Palabras Clave\", \"palabras_clave\"),\n",
    "    \"_MetaTagDescription\": (\"Descripción Meta\", \"descripcion_meta\"),\n",
    "    \"_DepartamentName\": (\"Departamento\", \"departamento\"),\n",
    "    \"_CategoryName\": (\"Categoría\", \"categoria\"),\n",
    "    \"_Brand\": (\"Marca\", \"marca\"),\n",
    "}\n",
    "\n",
    "index_file = \"embeddings.faiss\"\n",
    "ids_file = \"ids_faiss.npy\"\n",
    "\n",
    "\n",
    "def load_env():\n",
    "    # Load the .env file\n",
    "    env_file_path = \".env\"\n",
    "    openai_api_key = None\n",
    "\n",
    "    if os.path.exists(env_file_path):\n",
    "        with open(env_file_path) as f:\n",
    "            for line in f:\n",
    "                if line.startswith(\"OPENAI_API_KEY\"):\n",
    "                    openai_api_key = line.strip().split(\"=\")[1]\n",
    "                    break\n",
    "\n",
    "    if openai_api_key:\n",
    "        print(\"OpenAI API Key loaded successfully.\")\n",
    "        os.environ[\"OPENAI_API_KEY\"] = openai_api_key\n",
    "    else:\n",
    "        print(\"OpenAI API Key not found.\")\n",
    "\n",
    "\n",
    "def load_excel(path):\n",
    "    df = pd.read_excel(path, usecols=relevant_columns.keys(), dtype=str)\n",
    "    df.fillna(\"No Info\", inplace=True)\n",
    "    return df\n",
    "\n",
    "\n",
    "def get_string_from_row(row, verbose=False):\n",
    "    final_string = []\n",
    "    for column, value in relevant_columns.items():\n",
    "        row_value = row[column]\n",
    "\n",
    "        if column == \"_SkuId (Not changeable)\":\n",
    "            continue\n",
    "\n",
    "        if column == \"_ProductDescription\":\n",
    "            row_value = BeautifulSoup(row_value, \"html.parser\").get_text(separator=\", \")\n",
    "\n",
    "        if column == \"_Keywords\":\n",
    "            keywords = row_value.split(\",\")\n",
    "            row_value = \", \".join(\n",
    "                [keyword.strip() for keyword in keywords if not keyword.isdigit()]\n",
    "            )\n",
    "\n",
    "        if row_value != \"No Info\":\n",
    "            final_string.append(f\"{value[0]}: {row_value}\")\n",
    "\n",
    "        if verbose:\n",
    "            print(f\"{value[0]}: {row_value}\")\n",
    "\n",
    "    return \"; \".join(final_string)\n",
    "\n",
    "\n",
    "def get_embedding(text, model=\"text-embedding-3-small\"):\n",
    "    return client.embeddings.create(input=[text], model=model).data[0].embedding\n",
    "\n",
    "\n",
    "def get_tokens_length(text, encoding=\"cl100k_base\"):\n",
    "    encoding = tiktoken.get_encoding(encoding)\n",
    "    num_tokens = len(encoding.encode(text))\n",
    "    return num_tokens\n",
    "\n",
    "\n",
    "def create_batch_file(data, output_file=\"batch.jsonl\"):\n",
    "    total_tokens = 0\n",
    "    with open(output_file, \"w\") as f:\n",
    "        for idx, row in data.iterrows():\n",
    "            string_row = get_string_from_row(row)\n",
    "            tokens = get_tokens_length(string_row)\n",
    "            total_tokens += tokens\n",
    "\n",
    "            payload = {\n",
    "                \"custom_id\": row[\"_SkuId (Not changeable)\"],\n",
    "                \"method\": \"POST\",\n",
    "                \"url\": \"/v1/embeddings\",\n",
    "                \"body\": {\n",
    "                    \"model\": \"text-embedding-3-small\",\n",
    "                    \"input\": string_row,\n",
    "                },\n",
    "            }\n",
    "            f.write(json.dumps(payload, ensure_ascii=True) + \"\\n\")\n",
    "\n",
    "        print(\"Batch file created successfully.\")\n",
    "        print(f\"Total tokens: {total_tokens}\")\n",
    "        print(f\"Promedio de tokens: {total_tokens / len(data):.2f}\")\n",
    "\n",
    "\n",
    "def upload_batch_file(batch_file=\"batch.jsonl\", verbose=False):\n",
    "    batch_input_file = client.files.create(file=open(batch_file, \"rb\"), purpose=\"batch\")\n",
    "    print(\"Batch file uploaded successfully.\")\n",
    "    if verbose:\n",
    "        print(batch_input_file)\n",
    "    return batch_input_file\n",
    "\n",
    "\n",
    "def create_batch_online(batch_id, description=\"Normal batch\"):\n",
    "    \"\"\"\n",
    "    Create a batch with the given batch_id and description.\n",
    "    Max requests: 50 000\n",
    "    Max file size: 200MB\n",
    "    \"\"\"\n",
    "    batch_metadata = client.batches.create(\n",
    "        input_file_id=batch_id,\n",
    "        endpoint=\"/v1/embeddings\",\n",
    "        completion_window=\"24h\",\n",
    "        metadata={\"description\": description},\n",
    "    )\n",
    "    print(\"Batch created successfully.\")\n",
    "\n",
    "    return batch_metadata\n",
    "\n",
    "\n",
    "def check_status_batch(batch_id):\n",
    "    batch_status = client.batches.retrieve(batch_id)\n",
    "    return batch_status\n",
    "\n",
    "\n",
    "def get_results(batch_id):\n",
    "    batch_status = check_status_batch(batch_id)\n",
    "    if batch_status.status != \"completed\":\n",
    "        print(\"Batch not completed yet.\")\n",
    "        return None\n",
    "\n",
    "    output_file_id = batch_status.output_file_id\n",
    "    results = client.files.content(output_file_id)\n",
    "\n",
    "    with open(\"results.jsonl\", \"w\") as f:\n",
    "        f.write(results.text)\n",
    "\n",
    "\n",
    "def read_large_file(file_path):\n",
    "    with open(file_path, \"r\") as f:\n",
    "        for line in f:\n",
    "            yield line\n",
    "\n",
    "\n",
    "def save_embeddings(file_path):\n",
    "    ids_faiss = []\n",
    "    embeddings = []\n",
    "    vector_dim = 0\n",
    "    for line in read_large_file(file_path):\n",
    "        data = json.loads(line)\n",
    "\n",
    "        ids_faiss.append(data[\"custom_id\"])\n",
    "        embedding = data[\"response\"][\"body\"][\"data\"][0][\"embedding\"]\n",
    "        vector_dim = len(embedding)\n",
    "        embeddings.append(np.array(embedding, dtype=np.float32))\n",
    "\n",
    "    index = faiss.IndexFlatL2(vector_dim)\n",
    "    if embeddings:\n",
    "        embeddings_matrix = np.vstack(embeddings)\n",
    "        index.add(embeddings_matrix)\n",
    "\n",
    "    faiss.write_index(index, index_file)\n",
    "    np.save(ids_file, np.array(ids_faiss))\n",
    "\n",
    "    print(\"Embeddings saved successfully.\")\n",
    "    return index, ids_faiss\n",
    "\n",
    "\n",
    "def cargar_faiss_desde_disco(input_file=None):\n",
    "    if os.path.exists(index_file) and os.path.exists(ids_file):\n",
    "        index = faiss.read_index(index_file)\n",
    "        ids_faiss = np.load(ids_file).tolist()\n",
    "        print(\"Índice FAISS cargado desde disco.\")\n",
    "        return index, ids_faiss\n",
    "    else:\n",
    "        print(\"No se encontró un índice en disco. Creando uno nuevo.\")\n",
    "        if not input_file:\n",
    "            print(\"No se especificó un archivo de embeddings.\")\n",
    "            return None, None\n",
    "        return save_embeddings(input_file)\n",
    "\n",
    "\n",
    "def buscar_faiss(query, top_k=5):\n",
    "    query_embedding = get_embedding(query)\n",
    "    query_embedding = np.array(query_embedding, dtype=np.float32).reshape(1, -1)\n",
    "    distances, indices = index.search(query_embedding, top_k)\n",
    "\n",
    "    results = [(ids_faiss[idx], dist) for idx, dist in zip(indices[0], distances[0])]\n",
    "    for sku_id, dist in results:\n",
    "        row = data[data[\"_SkuId (Not changeable)\"] == sku_id]\n",
    "        print(f\"Distancia: {dist:.2f}\")\n",
    "        for column, value in relevant_columns.items():\n",
    "            print(f\"{value[0]}: {row[column].values[0]}\")\n",
    "\n",
    "\n",
    "data = load_excel(\"./text_search/wong_catalogo_small.xlsx\")\n",
    "index, ids_faiss = cargar_faiss_desde_disco(\"results.jsonl\")\n",
    "client = OpenAI()"
   ]
  },
  {
   "cell_type": "code",
   "execution_count": 12,
   "metadata": {},
   "outputs": [
    {
     "data": {
      "text/html": [
       "<pre style=\"white-space:pre;overflow-x:auto;line-height:normal;font-family:Menlo,'DejaVu Sans Mono',consolas,'Courier New',monospace\">Distancia: <span style=\"color: #008080; text-decoration-color: #008080; font-weight: bold\">0.87</span>\n",
       "</pre>\n"
      ],
      "text/plain": [
       "Distancia: \u001b[1;36m0.87\u001b[0m\n"
      ]
     },
     "metadata": {},
     "output_type": "display_data"
    },
    {
     "data": {
      "text/html": [
       "<pre style=\"white-space:pre;overflow-x:auto;line-height:normal;font-family:Menlo,'DejaVu Sans Mono',consolas,'Courier New',monospace\">ID SKU: <span style=\"color: #008080; text-decoration-color: #008080; font-weight: bold\">94</span>\n",
       "</pre>\n"
      ],
      "text/plain": [
       "ID SKU: \u001b[1;36m94\u001b[0m\n"
      ]
     },
     "metadata": {},
     "output_type": "display_data"
    },
    {
     "data": {
      "text/html": [
       "<pre style=\"white-space:pre;overflow-x:auto;line-height:normal;font-family:Menlo,'DejaVu Sans Mono',consolas,'Courier New',monospace\">Nombre: Agua de Mesa San Luis Sin Gas Botella 625ml\n",
       "</pre>\n"
      ],
      "text/plain": [
       "Nombre: Agua de Mesa San Luis Sin Gas Botella 625ml\n"
      ]
     },
     "metadata": {},
     "output_type": "display_data"
    },
    {
     "data": {
      "text/html": [
       "<pre style=\"white-space:pre;overflow-x:auto;line-height:normal;font-family:Menlo,'DejaVu Sans Mono',consolas,'Courier New',monospace\">Descripción Corta: No Info\n",
       "</pre>\n"
      ],
      "text/plain": [
       "Descripción Corta: No Info\n"
      ]
     },
     "metadata": {},
     "output_type": "display_data"
    },
    {
     "data": {
      "text/html": [
       "<pre style=\"white-space:pre;overflow-x:auto;line-height:normal;font-family:Menlo,'DejaVu Sans Mono',consolas,'Courier New',monospace\">Descripción Larga: No Info\n",
       "</pre>\n"
      ],
      "text/plain": [
       "Descripción Larga: No Info\n"
      ]
     },
     "metadata": {},
     "output_type": "display_data"
    },
    {
     "data": {
      "text/html": [
       "<pre style=\"white-space:pre;overflow-x:auto;line-height:normal;font-family:Menlo,'DejaVu Sans Mono',consolas,'Courier New',monospace\">Palabras Clave: No Info\n",
       "</pre>\n"
      ],
      "text/plain": [
       "Palabras Clave: No Info\n"
      ]
     },
     "metadata": {},
     "output_type": "display_data"
    },
    {
     "data": {
      "text/html": [
       "<pre style=\"white-space:pre;overflow-x:auto;line-height:normal;font-family:Menlo,'DejaVu Sans Mono',consolas,'Courier New',monospace\">Descripción Meta: No Info\n",
       "</pre>\n"
      ],
      "text/plain": [
       "Descripción Meta: No Info\n"
      ]
     },
     "metadata": {},
     "output_type": "display_data"
    },
    {
     "data": {
      "text/html": [
       "<pre style=\"white-space:pre;overflow-x:auto;line-height:normal;font-family:Menlo,'DejaVu Sans Mono',consolas,'Courier New',monospace\">Departamento: Aguas y Bebidas\n",
       "</pre>\n"
      ],
      "text/plain": [
       "Departamento: Aguas y Bebidas\n"
      ]
     },
     "metadata": {},
     "output_type": "display_data"
    },
    {
     "data": {
      "text/html": [
       "<pre style=\"white-space:pre;overflow-x:auto;line-height:normal;font-family:Menlo,'DejaVu Sans Mono',consolas,'Courier New',monospace\">Categoría: Agua sin Gas\n",
       "</pre>\n"
      ],
      "text/plain": [
       "Categoría: Agua sin Gas\n"
      ]
     },
     "metadata": {},
     "output_type": "display_data"
    },
    {
     "data": {
      "text/html": [
       "<pre style=\"white-space:pre;overflow-x:auto;line-height:normal;font-family:Menlo,'DejaVu Sans Mono',consolas,'Courier New',monospace\">Marca: San Luis\n",
       "</pre>\n"
      ],
      "text/plain": [
       "Marca: San Luis\n"
      ]
     },
     "metadata": {},
     "output_type": "display_data"
    },
    {
     "data": {
      "text/html": [
       "<pre style=\"white-space:pre;overflow-x:auto;line-height:normal;font-family:Menlo,'DejaVu Sans Mono',consolas,'Courier New',monospace\">Distancia: <span style=\"color: #008080; text-decoration-color: #008080; font-weight: bold\">0.90</span>\n",
       "</pre>\n"
      ],
      "text/plain": [
       "Distancia: \u001b[1;36m0.90\u001b[0m\n"
      ]
     },
     "metadata": {},
     "output_type": "display_data"
    },
    {
     "data": {
      "text/html": [
       "<pre style=\"white-space:pre;overflow-x:auto;line-height:normal;font-family:Menlo,'DejaVu Sans Mono',consolas,'Courier New',monospace\">ID SKU: <span style=\"color: #008080; text-decoration-color: #008080; font-weight: bold\">52</span>\n",
       "</pre>\n"
      ],
      "text/plain": [
       "ID SKU: \u001b[1;36m52\u001b[0m\n"
      ]
     },
     "metadata": {},
     "output_type": "display_data"
    },
    {
     "data": {
      "text/html": [
       "<pre style=\"white-space:pre;overflow-x:auto;line-height:normal;font-family:Menlo,'DejaVu Sans Mono',consolas,'Courier New',monospace\">Nombre: Agua Sin Gas Vida Bidón <span style=\"color: #008080; text-decoration-color: #008080; font-weight: bold\">7</span> L\n",
       "</pre>\n"
      ],
      "text/plain": [
       "Nombre: Agua Sin Gas Vida Bidón \u001b[1;36m7\u001b[0m L\n"
      ]
     },
     "metadata": {},
     "output_type": "display_data"
    },
    {
     "data": {
      "text/html": [
       "<pre style=\"white-space:pre;overflow-x:auto;line-height:normal;font-family:Menlo,'DejaVu Sans Mono',consolas,'Courier New',monospace\">Descripción Corta: No Info\n",
       "</pre>\n"
      ],
      "text/plain": [
       "Descripción Corta: No Info\n"
      ]
     },
     "metadata": {},
     "output_type": "display_data"
    },
    {
     "data": {
      "text/html": [
       "<pre style=\"white-space:pre;overflow-x:auto;line-height:normal;font-family:Menlo,'DejaVu Sans Mono',consolas,'Courier New',monospace\">Descripción Larga: No Info\n",
       "</pre>\n"
      ],
      "text/plain": [
       "Descripción Larga: No Info\n"
      ]
     },
     "metadata": {},
     "output_type": "display_data"
    },
    {
     "data": {
      "text/html": [
       "<pre style=\"white-space:pre;overflow-x:auto;line-height:normal;font-family:Menlo,'DejaVu Sans Mono',consolas,'Courier New',monospace\">Palabras Clave: <span style=\"color: #008080; text-decoration-color: #008080; font-weight: bold\">230881</span>,<span style=\"color: #008080; text-decoration-color: #008080; font-weight: bold\">7750430000257</span>,Bebidas y Agua,Agua,Vida\n",
       "</pre>\n"
      ],
      "text/plain": [
       "Palabras Clave: \u001b[1;36m230881\u001b[0m,\u001b[1;36m7750430000257\u001b[0m,Bebidas y Agua,Agua,Vida\n"
      ]
     },
     "metadata": {},
     "output_type": "display_data"
    },
    {
     "data": {
      "text/html": [
       "<pre style=\"white-space:pre;overflow-x:auto;line-height:normal;font-family:Menlo,'DejaVu Sans Mono',consolas,'Courier New',monospace\">Descripción Meta: No Info\n",
       "</pre>\n"
      ],
      "text/plain": [
       "Descripción Meta: No Info\n"
      ]
     },
     "metadata": {},
     "output_type": "display_data"
    },
    {
     "data": {
      "text/html": [
       "<pre style=\"white-space:pre;overflow-x:auto;line-height:normal;font-family:Menlo,'DejaVu Sans Mono',consolas,'Courier New',monospace\">Departamento: Aguas y Bebidas\n",
       "</pre>\n"
      ],
      "text/plain": [
       "Departamento: Aguas y Bebidas\n"
      ]
     },
     "metadata": {},
     "output_type": "display_data"
    },
    {
     "data": {
      "text/html": [
       "<pre style=\"white-space:pre;overflow-x:auto;line-height:normal;font-family:Menlo,'DejaVu Sans Mono',consolas,'Courier New',monospace\">Categoría: Agua sin Gas\n",
       "</pre>\n"
      ],
      "text/plain": [
       "Categoría: Agua sin Gas\n"
      ]
     },
     "metadata": {},
     "output_type": "display_data"
    },
    {
     "data": {
      "text/html": [
       "<pre style=\"white-space:pre;overflow-x:auto;line-height:normal;font-family:Menlo,'DejaVu Sans Mono',consolas,'Courier New',monospace\">Marca: Vida\n",
       "</pre>\n"
      ],
      "text/plain": [
       "Marca: Vida\n"
      ]
     },
     "metadata": {},
     "output_type": "display_data"
    },
    {
     "data": {
      "text/html": [
       "<pre style=\"white-space:pre;overflow-x:auto;line-height:normal;font-family:Menlo,'DejaVu Sans Mono',consolas,'Courier New',monospace\">Distancia: <span style=\"color: #008080; text-decoration-color: #008080; font-weight: bold\">0.90</span>\n",
       "</pre>\n"
      ],
      "text/plain": [
       "Distancia: \u001b[1;36m0.90\u001b[0m\n"
      ]
     },
     "metadata": {},
     "output_type": "display_data"
    },
    {
     "data": {
      "text/html": [
       "<pre style=\"white-space:pre;overflow-x:auto;line-height:normal;font-family:Menlo,'DejaVu Sans Mono',consolas,'Courier New',monospace\">ID SKU: <span style=\"color: #008080; text-decoration-color: #008080; font-weight: bold\">20</span>\n",
       "</pre>\n"
      ],
      "text/plain": [
       "ID SKU: \u001b[1;36m20\u001b[0m\n"
      ]
     },
     "metadata": {},
     "output_type": "display_data"
    },
    {
     "data": {
      "text/html": [
       "<pre style=\"white-space:pre;overflow-x:auto;line-height:normal;font-family:Menlo,'DejaVu Sans Mono',consolas,'Courier New',monospace\">Nombre: Agua de Mesa Sin Gas San Luis Caja 20L\n",
       "</pre>\n"
      ],
      "text/plain": [
       "Nombre: Agua de Mesa Sin Gas San Luis Caja 20L\n"
      ]
     },
     "metadata": {},
     "output_type": "display_data"
    },
    {
     "data": {
      "text/html": [
       "<pre style=\"white-space:pre;overflow-x:auto;line-height:normal;font-family:Menlo,'DejaVu Sans Mono',consolas,'Courier New',monospace\">Descripción Corta: No Info\n",
       "</pre>\n"
      ],
      "text/plain": [
       "Descripción Corta: No Info\n"
      ]
     },
     "metadata": {},
     "output_type": "display_data"
    },
    {
     "data": {
      "text/html": [
       "<pre style=\"white-space:pre;overflow-x:auto;line-height:normal;font-family:Menlo,'DejaVu Sans Mono',consolas,'Courier New',monospace\">Descripción Larga: <span style=\"font-weight: bold\">&lt;</span><span style=\"color: #ff00ff; text-decoration-color: #ff00ff; font-weight: bold\">li</span><span style=\"color: #000000; text-decoration-color: #000000\">&gt;Contiene </span><span style=\"color: #008080; text-decoration-color: #008080; font-weight: bold\">20</span><span style=\"color: #000000; text-decoration-color: #000000\"> litros&lt;</span><span style=\"color: #800080; text-decoration-color: #800080\">/</span><span style=\"color: #ff00ff; text-decoration-color: #ff00ff\">li</span><span style=\"color: #000000; text-decoration-color: #000000\">&gt;&lt;li&gt;Agua de mesa&lt;</span><span style=\"color: #800080; text-decoration-color: #800080\">/</span><span style=\"color: #ff00ff; text-decoration-color: #ff00ff\">li</span><span style=\"color: #000000; text-decoration-color: #000000\">&gt;&lt;li&gt;Variedad: Sin gas&lt;</span><span style=\"color: #800080; text-decoration-color: #800080\">/</span><span style=\"color: #ff00ff; text-decoration-color: #ff00ff\">li</span><span style=\"color: #000000; text-decoration-color: #000000\">&gt;&lt;br&gt;&lt;p </span>\n",
       "<span style=\"color: #808000; text-decoration-color: #808000\">style</span><span style=\"color: #000000; text-decoration-color: #000000\">=</span><span style=\"color: #008000; text-decoration-color: #008000\">\"color:red\"</span><span style=\"color: #000000; text-decoration-color: #000000\">&gt;* Compra máxima de </span><span style=\"color: #008080; text-decoration-color: #008080; font-weight: bold\">6</span><span style=\"color: #000000; text-decoration-color: #000000\"> unidades por cliente&lt;</span><span style=\"color: #800080; text-decoration-color: #800080\">/</span><span style=\"color: #ff00ff; text-decoration-color: #ff00ff\">p</span><span style=\"font-weight: bold\">&gt;</span>\n",
       "</pre>\n"
      ],
      "text/plain": [
       "Descripción Larga: \u001b[1m<\u001b[0m\u001b[1;95mli\u001b[0m\u001b[39m>Contiene \u001b[0m\u001b[1;36m20\u001b[0m\u001b[39m litros<\u001b[0m\u001b[35m/\u001b[0m\u001b[95mli\u001b[0m\u001b[39m><li>Agua de mesa<\u001b[0m\u001b[35m/\u001b[0m\u001b[95mli\u001b[0m\u001b[39m><li>Variedad: Sin gas<\u001b[0m\u001b[35m/\u001b[0m\u001b[95mli\u001b[0m\u001b[39m><br><p \u001b[0m\n",
       "\u001b[33mstyle\u001b[0m\u001b[39m=\u001b[0m\u001b[32m\"color\u001b[0m\u001b[32m:red\"\u001b[0m\u001b[39m>* Compra máxima de \u001b[0m\u001b[1;36m6\u001b[0m\u001b[39m unidades por cliente<\u001b[0m\u001b[35m/\u001b[0m\u001b[95mp\u001b[0m\u001b[1m>\u001b[0m\n"
      ]
     },
     "metadata": {},
     "output_type": "display_data"
    },
    {
     "data": {
      "text/html": [
       "<pre style=\"white-space:pre;overflow-x:auto;line-height:normal;font-family:Menlo,'DejaVu Sans Mono',consolas,'Courier New',monospace\">Palabras Clave: <span style=\"color: #008080; text-decoration-color: #008080; font-weight: bold\">37250</span>, Agua sin Gas, San Luis,San Luis,Agua sin Gas,Aguas,Aguas y Bebidas\n",
       "</pre>\n"
      ],
      "text/plain": [
       "Palabras Clave: \u001b[1;36m37250\u001b[0m, Agua sin Gas, San Luis,San Luis,Agua sin Gas,Aguas,Aguas y Bebidas\n"
      ]
     },
     "metadata": {},
     "output_type": "display_data"
    },
    {
     "data": {
      "text/html": [
       "<pre style=\"white-space:pre;overflow-x:auto;line-height:normal;font-family:Menlo,'DejaVu Sans Mono',consolas,'Courier New',monospace\">Descripción Meta: ¡Encuentra aquí los mejores productos de Agua sin Gas de la marca San Luis!\n",
       "</pre>\n"
      ],
      "text/plain": [
       "Descripción Meta: ¡Encuentra aquí los mejores productos de Agua sin Gas de la marca San Luis!\n"
      ]
     },
     "metadata": {},
     "output_type": "display_data"
    },
    {
     "data": {
      "text/html": [
       "<pre style=\"white-space:pre;overflow-x:auto;line-height:normal;font-family:Menlo,'DejaVu Sans Mono',consolas,'Courier New',monospace\">Departamento: Aguas y Bebidas\n",
       "</pre>\n"
      ],
      "text/plain": [
       "Departamento: Aguas y Bebidas\n"
      ]
     },
     "metadata": {},
     "output_type": "display_data"
    },
    {
     "data": {
      "text/html": [
       "<pre style=\"white-space:pre;overflow-x:auto;line-height:normal;font-family:Menlo,'DejaVu Sans Mono',consolas,'Courier New',monospace\">Categoría: Agua sin Gas\n",
       "</pre>\n"
      ],
      "text/plain": [
       "Categoría: Agua sin Gas\n"
      ]
     },
     "metadata": {},
     "output_type": "display_data"
    },
    {
     "data": {
      "text/html": [
       "<pre style=\"white-space:pre;overflow-x:auto;line-height:normal;font-family:Menlo,'DejaVu Sans Mono',consolas,'Courier New',monospace\">Marca: San Luis\n",
       "</pre>\n"
      ],
      "text/plain": [
       "Marca: San Luis\n"
      ]
     },
     "metadata": {},
     "output_type": "display_data"
    },
    {
     "data": {
      "text/html": [
       "<pre style=\"white-space:pre;overflow-x:auto;line-height:normal;font-family:Menlo,'DejaVu Sans Mono',consolas,'Courier New',monospace\">Distancia: <span style=\"color: #008080; text-decoration-color: #008080; font-weight: bold\">0.90</span>\n",
       "</pre>\n"
      ],
      "text/plain": [
       "Distancia: \u001b[1;36m0.90\u001b[0m\n"
      ]
     },
     "metadata": {},
     "output_type": "display_data"
    },
    {
     "data": {
      "text/html": [
       "<pre style=\"white-space:pre;overflow-x:auto;line-height:normal;font-family:Menlo,'DejaVu Sans Mono',consolas,'Courier New',monospace\">ID SKU: <span style=\"color: #008080; text-decoration-color: #008080; font-weight: bold\">98</span>\n",
       "</pre>\n"
      ],
      "text/plain": [
       "ID SKU: \u001b[1;36m98\u001b[0m\n"
      ]
     },
     "metadata": {},
     "output_type": "display_data"
    },
    {
     "data": {
      "text/html": [
       "<pre style=\"white-space:pre;overflow-x:auto;line-height:normal;font-family:Menlo,'DejaVu Sans Mono',consolas,'Courier New',monospace\">Nombre: Agua de Mesa San Luis Sin Gas Botella <span style=\"color: #008080; text-decoration-color: #008080; font-weight: bold\">625</span> ml Pack de <span style=\"color: #008080; text-decoration-color: #008080; font-weight: bold\">6</span> unid\n",
       "</pre>\n"
      ],
      "text/plain": [
       "Nombre: Agua de Mesa San Luis Sin Gas Botella \u001b[1;36m625\u001b[0m ml Pack de \u001b[1;36m6\u001b[0m unid\n"
      ]
     },
     "metadata": {},
     "output_type": "display_data"
    },
    {
     "data": {
      "text/html": [
       "<pre style=\"white-space:pre;overflow-x:auto;line-height:normal;font-family:Menlo,'DejaVu Sans Mono',consolas,'Courier New',monospace\">Descripción Corta: No Info\n",
       "</pre>\n"
      ],
      "text/plain": [
       "Descripción Corta: No Info\n"
      ]
     },
     "metadata": {},
     "output_type": "display_data"
    },
    {
     "data": {
      "text/html": [
       "<pre style=\"white-space:pre;overflow-x:auto;line-height:normal;font-family:Menlo,'DejaVu Sans Mono',consolas,'Courier New',monospace\">Descripción Larga: No Info\n",
       "</pre>\n"
      ],
      "text/plain": [
       "Descripción Larga: No Info\n"
      ]
     },
     "metadata": {},
     "output_type": "display_data"
    },
    {
     "data": {
      "text/html": [
       "<pre style=\"white-space:pre;overflow-x:auto;line-height:normal;font-family:Menlo,'DejaVu Sans Mono',consolas,'Courier New',monospace\">Palabras Clave: No Info\n",
       "</pre>\n"
      ],
      "text/plain": [
       "Palabras Clave: No Info\n"
      ]
     },
     "metadata": {},
     "output_type": "display_data"
    },
    {
     "data": {
      "text/html": [
       "<pre style=\"white-space:pre;overflow-x:auto;line-height:normal;font-family:Menlo,'DejaVu Sans Mono',consolas,'Courier New',monospace\">Descripción Meta: No Info\n",
       "</pre>\n"
      ],
      "text/plain": [
       "Descripción Meta: No Info\n"
      ]
     },
     "metadata": {},
     "output_type": "display_data"
    },
    {
     "data": {
      "text/html": [
       "<pre style=\"white-space:pre;overflow-x:auto;line-height:normal;font-family:Menlo,'DejaVu Sans Mono',consolas,'Courier New',monospace\">Departamento: Aguas y Bebidas\n",
       "</pre>\n"
      ],
      "text/plain": [
       "Departamento: Aguas y Bebidas\n"
      ]
     },
     "metadata": {},
     "output_type": "display_data"
    },
    {
     "data": {
      "text/html": [
       "<pre style=\"white-space:pre;overflow-x:auto;line-height:normal;font-family:Menlo,'DejaVu Sans Mono',consolas,'Courier New',monospace\">Categoría: Agua sin Gas\n",
       "</pre>\n"
      ],
      "text/plain": [
       "Categoría: Agua sin Gas\n"
      ]
     },
     "metadata": {},
     "output_type": "display_data"
    },
    {
     "data": {
      "text/html": [
       "<pre style=\"white-space:pre;overflow-x:auto;line-height:normal;font-family:Menlo,'DejaVu Sans Mono',consolas,'Courier New',monospace\">Marca: San Luis\n",
       "</pre>\n"
      ],
      "text/plain": [
       "Marca: San Luis\n"
      ]
     },
     "metadata": {},
     "output_type": "display_data"
    },
    {
     "data": {
      "text/html": [
       "<pre style=\"white-space:pre;overflow-x:auto;line-height:normal;font-family:Menlo,'DejaVu Sans Mono',consolas,'Courier New',monospace\">Distancia: <span style=\"color: #008080; text-decoration-color: #008080; font-weight: bold\">0.92</span>\n",
       "</pre>\n"
      ],
      "text/plain": [
       "Distancia: \u001b[1;36m0.92\u001b[0m\n"
      ]
     },
     "metadata": {},
     "output_type": "display_data"
    },
    {
     "data": {
      "text/html": [
       "<pre style=\"white-space:pre;overflow-x:auto;line-height:normal;font-family:Menlo,'DejaVu Sans Mono',consolas,'Courier New',monospace\">ID SKU: <span style=\"color: #008080; text-decoration-color: #008080; font-weight: bold\">100</span>\n",
       "</pre>\n"
      ],
      "text/plain": [
       "ID SKU: \u001b[1;36m100\u001b[0m\n"
      ]
     },
     "metadata": {},
     "output_type": "display_data"
    },
    {
     "data": {
      "text/html": [
       "<pre style=\"white-space:pre;overflow-x:auto;line-height:normal;font-family:Menlo,'DejaVu Sans Mono',consolas,'Courier New',monospace\">Nombre: Agua de Mesa Sin Gas San Luis Botella 1L\n",
       "</pre>\n"
      ],
      "text/plain": [
       "Nombre: Agua de Mesa Sin Gas San Luis Botella 1L\n"
      ]
     },
     "metadata": {},
     "output_type": "display_data"
    },
    {
     "data": {
      "text/html": [
       "<pre style=\"white-space:pre;overflow-x:auto;line-height:normal;font-family:Menlo,'DejaVu Sans Mono',consolas,'Courier New',monospace\">Descripción Corta: No Info\n",
       "</pre>\n"
      ],
      "text/plain": [
       "Descripción Corta: No Info\n"
      ]
     },
     "metadata": {},
     "output_type": "display_data"
    },
    {
     "data": {
      "text/html": [
       "<pre style=\"white-space:pre;overflow-x:auto;line-height:normal;font-family:Menlo,'DejaVu Sans Mono',consolas,'Courier New',monospace\">Descripción Larga: <span style=\"font-weight: bold\">&lt;</span><span style=\"color: #ff00ff; text-decoration-color: #ff00ff; font-weight: bold\">li</span><span style=\"color: #000000; text-decoration-color: #000000\">&gt;Contiene </span><span style=\"color: #008080; text-decoration-color: #008080; font-weight: bold\">1</span><span style=\"color: #000000; text-decoration-color: #000000\"> litro&lt;</span><span style=\"color: #800080; text-decoration-color: #800080\">/</span><span style=\"color: #ff00ff; text-decoration-color: #ff00ff\">li</span><span style=\"color: #000000; text-decoration-color: #000000\">&gt;&lt;li&gt;Agua de mesa&lt;</span><span style=\"color: #800080; text-decoration-color: #800080\">/</span><span style=\"color: #ff00ff; text-decoration-color: #ff00ff\">li</span><span style=\"color: #000000; text-decoration-color: #000000\">&gt;&lt;li&gt;Variedad: Sin gas&lt;</span><span style=\"color: #800080; text-decoration-color: #800080\">/</span><span style=\"color: #ff00ff; text-decoration-color: #ff00ff\">li</span><span style=\"color: #000000; text-decoration-color: #000000\">&gt;&lt;li&gt;Envase no </span>\n",
       "<span style=\"color: #000000; text-decoration-color: #000000\">retornable&lt;</span><span style=\"color: #800080; text-decoration-color: #800080\">/</span><span style=\"color: #ff00ff; text-decoration-color: #ff00ff\">li</span><span style=\"color: #000000; text-decoration-color: #000000\">&gt;&lt;br&gt;&lt;p </span><span style=\"color: #808000; text-decoration-color: #808000\">style</span><span style=\"color: #000000; text-decoration-color: #000000\">=</span><span style=\"color: #008000; text-decoration-color: #008000\">\"color:red\"</span><span style=\"color: #000000; text-decoration-color: #000000\">&gt;* Compra máxima de </span><span style=\"color: #008080; text-decoration-color: #008080; font-weight: bold\">12</span><span style=\"color: #000000; text-decoration-color: #000000\"> unidades por cliente&lt;</span><span style=\"color: #800080; text-decoration-color: #800080\">/</span><span style=\"color: #ff00ff; text-decoration-color: #ff00ff\">p</span><span style=\"font-weight: bold\">&gt;</span>\n",
       "</pre>\n"
      ],
      "text/plain": [
       "Descripción Larga: \u001b[1m<\u001b[0m\u001b[1;95mli\u001b[0m\u001b[39m>Contiene \u001b[0m\u001b[1;36m1\u001b[0m\u001b[39m litro<\u001b[0m\u001b[35m/\u001b[0m\u001b[95mli\u001b[0m\u001b[39m><li>Agua de mesa<\u001b[0m\u001b[35m/\u001b[0m\u001b[95mli\u001b[0m\u001b[39m><li>Variedad: Sin gas<\u001b[0m\u001b[35m/\u001b[0m\u001b[95mli\u001b[0m\u001b[39m><li>Envase no \u001b[0m\n",
       "\u001b[39mretornable<\u001b[0m\u001b[35m/\u001b[0m\u001b[95mli\u001b[0m\u001b[39m><br><p \u001b[0m\u001b[33mstyle\u001b[0m\u001b[39m=\u001b[0m\u001b[32m\"color\u001b[0m\u001b[32m:red\"\u001b[0m\u001b[39m>* Compra máxima de \u001b[0m\u001b[1;36m12\u001b[0m\u001b[39m unidades por cliente<\u001b[0m\u001b[35m/\u001b[0m\u001b[95mp\u001b[0m\u001b[1m>\u001b[0m\n"
      ]
     },
     "metadata": {},
     "output_type": "display_data"
    },
    {
     "data": {
      "text/html": [
       "<pre style=\"white-space:pre;overflow-x:auto;line-height:normal;font-family:Menlo,'DejaVu Sans Mono',consolas,'Courier New',monospace\">Palabras Clave: <span style=\"color: #008080; text-decoration-color: #008080; font-weight: bold\">364257</span>, Agua sin Gas, San Luis\n",
       "</pre>\n"
      ],
      "text/plain": [
       "Palabras Clave: \u001b[1;36m364257\u001b[0m, Agua sin Gas, San Luis\n"
      ]
     },
     "metadata": {},
     "output_type": "display_data"
    },
    {
     "data": {
      "text/html": [
       "<pre style=\"white-space:pre;overflow-x:auto;line-height:normal;font-family:Menlo,'DejaVu Sans Mono',consolas,'Courier New',monospace\">Descripción Meta: ¡Encuentra aquí los mejores productos de Agua sin Gas de la marca San Luis!\n",
       "</pre>\n"
      ],
      "text/plain": [
       "Descripción Meta: ¡Encuentra aquí los mejores productos de Agua sin Gas de la marca San Luis!\n"
      ]
     },
     "metadata": {},
     "output_type": "display_data"
    },
    {
     "data": {
      "text/html": [
       "<pre style=\"white-space:pre;overflow-x:auto;line-height:normal;font-family:Menlo,'DejaVu Sans Mono',consolas,'Courier New',monospace\">Departamento: Aguas y Bebidas\n",
       "</pre>\n"
      ],
      "text/plain": [
       "Departamento: Aguas y Bebidas\n"
      ]
     },
     "metadata": {},
     "output_type": "display_data"
    },
    {
     "data": {
      "text/html": [
       "<pre style=\"white-space:pre;overflow-x:auto;line-height:normal;font-family:Menlo,'DejaVu Sans Mono',consolas,'Courier New',monospace\">Categoría: Agua sin Gas\n",
       "</pre>\n"
      ],
      "text/plain": [
       "Categoría: Agua sin Gas\n"
      ]
     },
     "metadata": {},
     "output_type": "display_data"
    },
    {
     "data": {
      "text/html": [
       "<pre style=\"white-space:pre;overflow-x:auto;line-height:normal;font-family:Menlo,'DejaVu Sans Mono',consolas,'Courier New',monospace\">Marca: San Luis\n",
       "</pre>\n"
      ],
      "text/plain": [
       "Marca: San Luis\n"
      ]
     },
     "metadata": {},
     "output_type": "display_data"
    }
   ],
   "source": [
    "buscar_faiss(\"agua sin gas\", top_k=5)"
   ]
  },
  {
   "cell_type": "code",
   "execution_count": 5,
   "metadata": {},
   "outputs": [
    {
     "data": {
      "text/html": [
       "<pre style=\"white-space:pre;overflow-x:auto;line-height:normal;font-family:Menlo,'DejaVu Sans Mono',consolas,'Courier New',monospace\"><span style=\"font-weight: bold\">{</span>\n",
       "    <span style=\"color: #008000; text-decoration-color: #008000\">'id'</span>: <span style=\"color: #008000; text-decoration-color: #008000\">'batch_req_6769ae1dbc4c8190b44a5f6822582a1c'</span>,\n",
       "    <span style=\"color: #008000; text-decoration-color: #008000\">'custom_id'</span>: <span style=\"color: #008000; text-decoration-color: #008000\">'1'</span>,\n",
       "    <span style=\"color: #008000; text-decoration-color: #008000\">'response'</span>: <span style=\"font-weight: bold\">{</span>\n",
       "        <span style=\"color: #008000; text-decoration-color: #008000\">'status_code'</span>: <span style=\"color: #008080; text-decoration-color: #008080; font-weight: bold\">200</span>,\n",
       "        <span style=\"color: #008000; text-decoration-color: #008000\">'request_id'</span>: <span style=\"color: #008000; text-decoration-color: #008000\">'2b7816c5778f93ef6146eed250fafd6e'</span>,\n",
       "        <span style=\"color: #008000; text-decoration-color: #008000\">'body'</span>: <span style=\"font-weight: bold\">{</span>\n",
       "            <span style=\"color: #008000; text-decoration-color: #008000\">'object'</span>: <span style=\"color: #008000; text-decoration-color: #008000\">'list'</span>,\n",
       "            <span style=\"color: #008000; text-decoration-color: #008000\">'data'</span>: <span style=\"font-weight: bold\">[{</span><span style=\"color: #008000; text-decoration-color: #008000\">'object'</span>: <span style=\"color: #008000; text-decoration-color: #008000\">'embedding'</span>, <span style=\"color: #008000; text-decoration-color: #008000\">'index'</span>: <span style=\"color: #008080; text-decoration-color: #008080; font-weight: bold\">0</span>, <span style=\"color: #008000; text-decoration-color: #008000\">'embedding'</span>: <span style=\"color: #008000; text-decoration-color: #008000\">'EMBEDDING'</span><span style=\"font-weight: bold\">}]</span>,\n",
       "            <span style=\"color: #008000; text-decoration-color: #008000\">'model'</span>: <span style=\"color: #008000; text-decoration-color: #008000\">'text-embedding-3-small'</span>,\n",
       "            <span style=\"color: #008000; text-decoration-color: #008000\">'usage'</span>: <span style=\"font-weight: bold\">{</span><span style=\"color: #008000; text-decoration-color: #008000\">'prompt_tokens'</span>: <span style=\"color: #008080; text-decoration-color: #008080; font-weight: bold\">38</span>, <span style=\"color: #008000; text-decoration-color: #008000\">'total_tokens'</span>: <span style=\"color: #008080; text-decoration-color: #008080; font-weight: bold\">38</span><span style=\"font-weight: bold\">}</span>\n",
       "        <span style=\"font-weight: bold\">}</span>\n",
       "    <span style=\"font-weight: bold\">}</span>,\n",
       "    <span style=\"color: #008000; text-decoration-color: #008000\">'error'</span>: <span style=\"color: #800080; text-decoration-color: #800080; font-style: italic\">None</span>\n",
       "<span style=\"font-weight: bold\">}</span>\n",
       "</pre>\n"
      ],
      "text/plain": [
       "\u001b[1m{\u001b[0m\n",
       "    \u001b[32m'id'\u001b[0m: \u001b[32m'batch_req_6769ae1dbc4c8190b44a5f6822582a1c'\u001b[0m,\n",
       "    \u001b[32m'custom_id'\u001b[0m: \u001b[32m'1'\u001b[0m,\n",
       "    \u001b[32m'response'\u001b[0m: \u001b[1m{\u001b[0m\n",
       "        \u001b[32m'status_code'\u001b[0m: \u001b[1;36m200\u001b[0m,\n",
       "        \u001b[32m'request_id'\u001b[0m: \u001b[32m'2b7816c5778f93ef6146eed250fafd6e'\u001b[0m,\n",
       "        \u001b[32m'body'\u001b[0m: \u001b[1m{\u001b[0m\n",
       "            \u001b[32m'object'\u001b[0m: \u001b[32m'list'\u001b[0m,\n",
       "            \u001b[32m'data'\u001b[0m: \u001b[1m[\u001b[0m\u001b[1m{\u001b[0m\u001b[32m'object'\u001b[0m: \u001b[32m'embedding'\u001b[0m, \u001b[32m'index'\u001b[0m: \u001b[1;36m0\u001b[0m, \u001b[32m'embedding'\u001b[0m: \u001b[32m'EMBEDDING'\u001b[0m\u001b[1m}\u001b[0m\u001b[1m]\u001b[0m,\n",
       "            \u001b[32m'model'\u001b[0m: \u001b[32m'text-embedding-3-small'\u001b[0m,\n",
       "            \u001b[32m'usage'\u001b[0m: \u001b[1m{\u001b[0m\u001b[32m'prompt_tokens'\u001b[0m: \u001b[1;36m38\u001b[0m, \u001b[32m'total_tokens'\u001b[0m: \u001b[1;36m38\u001b[0m\u001b[1m}\u001b[0m\n",
       "        \u001b[1m}\u001b[0m\n",
       "    \u001b[1m}\u001b[0m,\n",
       "    \u001b[32m'error'\u001b[0m: \u001b[3;35mNone\u001b[0m\n",
       "\u001b[1m}\u001b[0m\n"
      ]
     },
     "metadata": {},
     "output_type": "display_data"
    }
   ],
   "source": [
    "# random_row = data.sample(1)\n",
    "\n",
    "result_iter = read_large_file(\"results.jsonl\")\n",
    "first_result = json.loads(next(result_iter))\n",
    "first_result[\"response\"][\"body\"][\"data\"][0][\"embedding\"] = \"EMBEDDING\"\n",
    "\n",
    "print(first_result)"
   ]
  }
 ],
 "metadata": {
  "kernelspec": {
   "display_name": "venv",
   "language": "python",
   "name": "python3"
  },
  "language_info": {
   "codemirror_mode": {
    "name": "ipython",
    "version": 3
   },
   "file_extension": ".py",
   "mimetype": "text/x-python",
   "name": "python",
   "nbconvert_exporter": "python",
   "pygments_lexer": "ipython3",
   "version": "3.12.8"
  }
 },
 "nbformat": 4,
 "nbformat_minor": 2
}
