{
 "cells": [
  {
   "cell_type": "code",
   "execution_count": 1,
   "metadata": {},
   "outputs": [
    {
     "data": {
      "text/html": [
       "<pre style=\"white-space:pre;overflow-x:auto;line-height:normal;font-family:Menlo,'DejaVu Sans Mono',consolas,'Courier New',monospace\">OpenAI API Key loaded successfully.\n",
       "</pre>\n"
      ],
      "text/plain": [
       "OpenAI API Key loaded successfully.\n"
      ]
     },
     "metadata": {},
     "output_type": "display_data"
    }
   ],
   "source": [
    "import os\n",
    "import json\n",
    "import glob\n",
    "import faiss\n",
    "import tiktoken\n",
    "import numpy as np\n",
    "import pandas as pd\n",
    "\n",
    "from openai import OpenAI\n",
    "from bs4 import BeautifulSoup\n",
    "from datetime import datetime\n",
    "from rich import print, inspect\n",
    "from rich.progress import Progress\n",
    "\n",
    "relevant_columns = {\n",
    "    \"_SkuId (Not changeable)\": (\"ID SKU\", \"id_sku\"),\n",
    "    \"_SkuName\": (\"Nombre\", \"nombre\"),\n",
    "    \"_ProductShortDescription\": (\"Descripción Corta\", \"descripcion_corta\"),\n",
    "    \"_ProductDescription\": (\"Descripción Larga\", \"descripcion_larga\"),\n",
    "    \"_Keywords\": (\"Palabras Clave\", \"palabras_clave\"),\n",
    "    \"_MetaTagDescription\": (\"Descripción Meta\", \"descripcion_meta\"),\n",
    "    \"_DepartamentName\": (\"Departamento\", \"departamento\"),\n",
    "    \"_CategoryName\": (\"Categoría\", \"categoria\"),\n",
    "    \"_Brand\": (\"Marca\", \"marca\"),\n",
    "}\n",
    "\n",
    "index_file = \"embeddings.faiss\"\n",
    "index = None\n",
    "ids_file = \"ids_faiss.npy\"\n",
    "ids_faiss = None\n",
    "data = None\n",
    "\n",
    "\n",
    "def load_env():\n",
    "    # Load the .env file\n",
    "    env_file_path = \".env\"\n",
    "    openai_api_key = None\n",
    "\n",
    "    if os.path.exists(env_file_path):\n",
    "        with open(env_file_path) as f:\n",
    "            for line in f:\n",
    "                if line.startswith(\"OPENAI_API_KEY\"):\n",
    "                    openai_api_key = line.strip().split(\"=\")[1]\n",
    "                    break\n",
    "\n",
    "    if openai_api_key:\n",
    "        print(\"OpenAI API Key loaded successfully.\")\n",
    "        os.environ[\"OPENAI_API_KEY\"] = openai_api_key\n",
    "    else:\n",
    "        print(\"OpenAI API Key not found.\")\n",
    "\n",
    "\n",
    "load_env()\n",
    "\n",
    "\n",
    "def load_excel(path):\n",
    "    df = pd.read_excel(path, usecols=relevant_columns.keys(), dtype=str)\n",
    "    df.fillna(\"No Info\", inplace=True)\n",
    "    return df\n",
    "\n",
    "\n",
    "def create_file_from_excel(data, samples=1000, output_file=\"catalogo.xlsx\"):\n",
    "    data.sample(samples).to_excel(output_file, index=False)\n",
    "    print(f\"File {output_file} created successfully.\")\n",
    "\n",
    "\n",
    "def get_string_from_row(row, verbose=False):\n",
    "    final_string = []\n",
    "    for column, value in relevant_columns.items():\n",
    "        if hasattr(row[column], \"values\"):\n",
    "            row_value = row[column].values[0]\n",
    "        else:\n",
    "            row_value = row[column]\n",
    "\n",
    "        if column == \"_SkuId (Not changeable)\":\n",
    "            continue\n",
    "\n",
    "        if column == \"_ProductDescription\" or column == \"_MetaTagDescription\":\n",
    "            row_value = BeautifulSoup(row_value, \"html.parser\").get_text(separator=\", \")\n",
    "\n",
    "        if column == \"_Keywords\":\n",
    "            keywords = row_value.split(\",\")\n",
    "            keywords = [keyword.strip() for keyword in keywords]\n",
    "            row_value = \", \".join(\n",
    "                [keyword for keyword in keywords if not keyword.isdigit()]\n",
    "            )\n",
    "\n",
    "        if row_value != \"No Info\":\n",
    "            final_string.append(f\"{value[0]}: {row_value}\")\n",
    "\n",
    "        if verbose:\n",
    "            print(f\"{value[0]}: {row_value}\")\n",
    "\n",
    "    return \"; \".join(final_string)\n",
    "\n",
    "\n",
    "def get_embedding(text, model=\"text-embedding-3-small\"):\n",
    "    response = client.embeddings.create(input=[text], model=model)\n",
    "    embedding = response.data[0].embedding\n",
    "    tokens = response.usage.total_tokens\n",
    "    return embedding, tokens\n",
    "\n",
    "\n",
    "def get_tokens_length(text, encoding=\"cl100k_base\"):\n",
    "    encoding = tiktoken.get_encoding(encoding)\n",
    "    num_tokens = len(encoding.encode(text))\n",
    "    return num_tokens\n",
    "\n",
    "\n",
    "def create_batch_files(data, output_file_prefix=\"batch\"):\n",
    "    total_tokens = 0\n",
    "    current_tokens = 0\n",
    "    file_count = 0\n",
    "\n",
    "    with Progress() as progress:\n",
    "        task = progress.add_task(f\"[red]Batch N{file_count}\", total=1_000_000)\n",
    "        output_file = f\"{output_file_prefix}_{file_count}.jsonl\"\n",
    "        f = open(output_file, \"w\")\n",
    "        \n",
    "        for idx, row in data.iterrows():\n",
    "            string_row = get_string_from_row(row)\n",
    "            tokens = get_tokens_length(string_row)\n",
    "            current_tokens += tokens\n",
    "\n",
    "            if current_tokens > 1_000_000:\n",
    "                previous_tokens = current_tokens - tokens\n",
    "                print(f\"Batch {file_count} created successfully with {previous_tokens} tokens.\")\n",
    "                total_tokens += previous_tokens\n",
    "                current_tokens = tokens\n",
    "\n",
    "                f.close()\n",
    "                file_count += 1\n",
    "\n",
    "                task = progress.add_task(f\"[red]Batch N{file_count}\", total=1_000_000)\n",
    "                output_file = f\"{output_file_prefix}_{file_count}.jsonl\"\n",
    "                f = open(output_file, \"w\")\n",
    "\n",
    "\n",
    "            payload = {\n",
    "                \"custom_id\": row[\"_SkuId (Not changeable)\"],\n",
    "                \"method\": \"POST\",\n",
    "                \"url\": \"/v1/embeddings\",\n",
    "                \"body\": {\n",
    "                    \"model\": \"text-embedding-3-small\",\n",
    "                    \"input\": string_row,\n",
    "                },\n",
    "            }\n",
    "\n",
    "            f.write(json.dumps(payload, ensure_ascii=True) + \"\\n\")\n",
    "            progress.update(task, advance=tokens)\n",
    "\n",
    "        f.close()\n",
    "        print(\"Batch files created successfully.\")\n",
    "        print(f\"Total tokens: {total_tokens}\")\n",
    "\n",
    "\n",
    "def upload_batch_file(batch_file=\"batch.jsonl\", verbose=False):\n",
    "    batch_input_file = client.files.create(file=open(batch_file, \"rb\"), purpose=\"batch\")\n",
    "    print(f\"{batch_file} file uploaded successfully.\")\n",
    "    if verbose:\n",
    "        print(batch_input_file)\n",
    "    return batch_input_file\n",
    "\n",
    "\n",
    "def create_batch_online(batch_id, description=\"Normal batch\", verbose=False):\n",
    "    \"\"\"\n",
    "    Create a batch with the given batch_id and description.\n",
    "    Max requests: 50 000\n",
    "    Max file size: 200MB\n",
    "    \"\"\"\n",
    "    batch_metadata = client.batches.create(\n",
    "        input_file_id=batch_id,\n",
    "        endpoint=\"/v1/embeddings\",\n",
    "        completion_window=\"24h\",\n",
    "        metadata={\"description\": description},\n",
    "    )\n",
    "    print(f\"Batch {batch_id} created successfully.\")\n",
    "\n",
    "    if verbose:\n",
    "        print(batch_metadata.model_dump())\n",
    "\n",
    "    return batch_metadata\n",
    "\n",
    "\n",
    "def check_status_batch(batch_id):\n",
    "    batch_status = client.batches.retrieve(batch_id)\n",
    "    return batch_status\n",
    "\n",
    "\n",
    "def get_results(batch_id, folder=\"results\"):\n",
    "    batch_status = check_status_batch(batch_id)\n",
    "    if batch_status.status != \"completed\":\n",
    "        print(\"Batch not completed yet.\")\n",
    "        return None\n",
    "\n",
    "    output_file_id = batch_status.output_file_id\n",
    "    results = client.files.content(output_file_id)\n",
    "\n",
    "    # file_name = f\"results_{batch_id}.jsonl\"\n",
    "    file_name = f\"{folder}/{batch_id}.jsonl\"\n",
    "    with open(file_name, \"w\") as f:\n",
    "        f.write(results.text)\n",
    "\n",
    "\n",
    "def read_large_file(file_path):\n",
    "    with open(file_path, \"r\") as f:\n",
    "        for line in f:\n",
    "            yield line\n",
    "\n",
    "\n",
    "def save_embeddings(file_paths, return_index=False):\n",
    "    ids_faiss = []\n",
    "    embeddings = []\n",
    "    vector_dim = 0\n",
    "\n",
    "    for file_path in file_paths:\n",
    "        for line in read_large_file(file_path):\n",
    "            data = json.loads(line)\n",
    "\n",
    "            ids_faiss.append(data[\"custom_id\"])\n",
    "            embedding = data[\"response\"][\"body\"][\"data\"][0][\"embedding\"]\n",
    "            vector_dim = len(embedding)\n",
    "            embeddings.append(np.array(embedding, dtype=np.float32))\n",
    "\n",
    "    index = faiss.IndexFlatL2(vector_dim)\n",
    "    if embeddings:\n",
    "        embeddings_matrix = np.vstack(embeddings)\n",
    "        index.add(embeddings_matrix)\n",
    "\n",
    "    faiss.write_index(index, index_file)\n",
    "    np.save(ids_file, np.array(ids_faiss))\n",
    "\n",
    "    print(\"Embeddings saved successfully.\")\n",
    "    if return_index:\n",
    "        return index, ids_faiss\n",
    "\n",
    "\n",
    "def cargar_faiss_desde_disco(input_file=None):\n",
    "    if os.path.exists(index_file) and os.path.exists(ids_file):\n",
    "        index = faiss.read_index(index_file)\n",
    "        ids_faiss = np.load(ids_file).tolist()\n",
    "        print(\"Índice FAISS cargado desde disco.\")\n",
    "        return index, ids_faiss\n",
    "    else:\n",
    "        print(\"No se encontró un índice en disco. Creando uno nuevo.\")\n",
    "        if not input_file:\n",
    "            print(\"No se especificó una lista de embeddings para cargar.\")\n",
    "            return None, None\n",
    "        return save_embeddings(input_file)\n",
    "\n",
    "\n",
    "def buscar_faiss(query, top_k=5):\n",
    "    query_embedding, tokens = get_embedding(query)\n",
    "    price_tokens_1M = 0.02 # 0.02 dolares por cada 1M de tokens\n",
    "    price = price_tokens_1M * tokens / 1_000_000\n",
    "    print(f\"Tokens: {tokens}, Costo: ${price:.10f}\")\n",
    "\n",
    "    query_embedding = np.array(query_embedding, dtype=np.float32).reshape(1, -1)\n",
    "    distances, indices = index.search(query_embedding, top_k)\n",
    "\n",
    "    results = [(ids_faiss[idx], dist) for idx, dist in zip(indices[0], distances[0])]\n",
    "    for sku_id, dist in results:\n",
    "        row = data[data[\"_SkuId (Not changeable)\"] == sku_id]\n",
    "        print(f\"Distancia: {dist:.2f}\")\n",
    "        out_str = \"\"\n",
    "        for column, value in relevant_columns.items():\n",
    "            out_str += f\"{value[0]}: {row[column].values[0]}\\n\"\n",
    "        print(out_str)\n",
    "\n",
    "\n",
    "def unix_to_readable(unix_timestamp):\n",
    "    if not unix_timestamp:\n",
    "        return \"No Info\"\n",
    "    return datetime.fromtimestamp(unix_timestamp).strftime('%Y-%m-%d %H:%M:%S')\n",
    "\n",
    "def save_jobs(jobs, output_file=\"jobs.txt\"):\n",
    "    with open(output_file, \"w\") as f:\n",
    "        for job in jobs:\n",
    "            f.write(f\"{job[0]},{job[1]},{job[2]}\\n\")\n",
    "\n",
    "def load_jobs(input_file=\"jobs.txt\"):\n",
    "    jobs = []\n",
    "    with open(input_file, \"r\") as f:\n",
    "        for line in f:\n",
    "            job = line.strip().split(\",\")\n",
    "            jobs.append(job)\n",
    "    return jobs\n",
    "\n",
    "\n",
    "# index, ids_faiss = cargar_faiss_desde_disco(\"results.jsonl\")\n",
    "client = OpenAI()"
   ]
  },
  {
   "cell_type": "code",
   "execution_count": 2,
   "metadata": {},
   "outputs": [],
   "source": [
    "data = load_excel(\"./text_search/wong_catalogo_prueba.xlsx\")"
   ]
  },
  {
   "cell_type": "code",
   "execution_count": null,
   "metadata": {},
   "outputs": [],
   "source": [
    "create_file_from_excel(data, samples=1000, output_file=\"./text_search/wong_catalogo_1000.xlsx\")"
   ]
  },
  {
   "cell_type": "code",
   "execution_count": 2,
   "metadata": {},
   "outputs": [],
   "source": [
    "data = load_excel(\"./text_search/wong_catalogo_1000.xlsx\")"
   ]
  },
  {
   "cell_type": "code",
   "execution_count": null,
   "metadata": {},
   "outputs": [],
   "source": [
    "num_rows, num_columns = data.shape\n",
    "print(f\"Number of rows: {num_rows}\")\n",
    "print(f\"Number of columns: {num_columns}\")"
   ]
  },
  {
   "cell_type": "code",
   "execution_count": null,
   "metadata": {},
   "outputs": [],
   "source": [
    "random_row = data.sample(1)\n",
    "string_row = get_string_from_row(random_row, verbose=True)\n",
    "print(string_row)\n",
    "tokens = get_tokens_length(string_row)\n",
    "print(f\"Tokens: {tokens}\")"
   ]
  },
  {
   "cell_type": "code",
   "execution_count": null,
   "metadata": {},
   "outputs": [],
   "source": [
    "create_batch_files(data)"
   ]
  },
  {
   "cell_type": "code",
   "execution_count": null,
   "metadata": {},
   "outputs": [],
   "source": [
    "import glob\n",
    "\n",
    "batch_files = glob.glob(\"batch_*.jsonl\")\n",
    "print(batch_files)\n",
    "jobs = []\n",
    "for batch_file in batch_files:\n",
    "    batch_id = upload_batch_file(batch_file)\n",
    "    jobs.append([batch_id.id, 'No Started', ''])\n",
    "\n",
    "save_jobs(jobs)"
   ]
  },
  {
   "cell_type": "code",
   "execution_count": null,
   "metadata": {},
   "outputs": [],
   "source": [
    "jobs = load_jobs('jobs.txt')\n",
    "\n",
    "for job in jobs:\n",
    "    if job[1] == \"Completed\":\n",
    "        continue\n",
    "\n",
    "    elif job[1] != \"No Started\":\n",
    "        status = check_status_batch(job[2])\n",
    "        if status.status == \"completed\":\n",
    "            print(f\"Batch {job[2]} completed.\")\n",
    "            job[1] = \"Completed\"\n",
    "        elif status.status == \"finalizing\":\n",
    "            print(f\"Batch {job[2]} is finalizing.\")\n",
    "            job[1] = \"Finalizing\"\n",
    "        elif status.status == \"failed\":\n",
    "            print(f\"Batch {job[2]} failed.\")\n",
    "            print(\"Changing status to No Started.\")\n",
    "            job[1] = \"No Started\"\n",
    "        else:\n",
    "            print(f\"Batch {job[2]} not completed yet.\")\n",
    "            completed = status.request_counts.completed\n",
    "            total = status.request_counts.total\n",
    "            print(f\"Completed: {completed}, Total: {total}\")\n",
    "            # print(status.model_dump())\n",
    "        break\n",
    "\n",
    "    elif job[1] == \"No Started\":\n",
    "        print(f\"Starting batch with file {job[0]}\")\n",
    "        batch_online_id = create_batch_online(job[0], description=f\"Batch {job[0]}\")\n",
    "        job[1] = \"Started\"\n",
    "        job[2] = batch_online_id.id\n",
    "        break\n",
    "\n",
    "print(jobs)\n",
    "save_jobs(jobs)\n"
   ]
  },
  {
   "cell_type": "code",
   "execution_count": 117,
   "metadata": {},
   "outputs": [],
   "source": [
    "jobs = load_jobs('jobs.txt')\n",
    "for job in jobs:\n",
    "    if job[1] != \"Completed\":\n",
    "        continue\n",
    "\n",
    "    get_results(job[2], folder=\"results\")"
   ]
  },
  {
   "cell_type": "code",
   "execution_count": null,
   "metadata": {},
   "outputs": [],
   "source": [
    "# Get all .jsonl files in the results folder\n",
    "results_files = glob.glob(\"results/*.jsonl\")\n",
    "\n",
    "save_embeddings(results_files)"
   ]
  },
  {
   "cell_type": "code",
   "execution_count": 3,
   "metadata": {},
   "outputs": [
    {
     "data": {
      "text/html": [
       "<pre style=\"white-space:pre;overflow-x:auto;line-height:normal;font-family:Menlo,'DejaVu Sans Mono',consolas,'Courier New',monospace\">Índice FAISS cargado desde disco.\n",
       "</pre>\n"
      ],
      "text/plain": [
       "Índice FAISS cargado desde disco.\n"
      ]
     },
     "metadata": {},
     "output_type": "display_data"
    }
   ],
   "source": [
    "index, ids_faiss = cargar_faiss_desde_disco()"
   ]
  },
  {
   "cell_type": "code",
   "execution_count": null,
   "metadata": {},
   "outputs": [],
   "source": [
    "# Get file size in bytes\n",
    "file_size = os.path.getsize(\"embeddings.faiss\")\n",
    "print(f\"File size: {file_size / 1024 / 1024:.2f} MB\")\n",
    "file_size = os.path.getsize(\"ids_faiss.npy\")\n",
    "print(f\"File size: {file_size / 1024:.2f} KB\")"
   ]
  },
  {
   "cell_type": "code",
   "execution_count": 6,
   "metadata": {},
   "outputs": [
    {
     "data": {
      "text/html": [
       "<pre style=\"white-space:pre;overflow-x:auto;line-height:normal;font-family:Menlo,'DejaVu Sans Mono',consolas,'Courier New',monospace\">Tokens: <span style=\"color: #008080; text-decoration-color: #008080; font-weight: bold\">6</span>, Costo: $<span style=\"color: #008080; text-decoration-color: #008080; font-weight: bold\">0.0000001200</span>\n",
       "</pre>\n"
      ],
      "text/plain": [
       "Tokens: \u001b[1;36m6\u001b[0m, Costo: $\u001b[1;36m0.0000001200\u001b[0m\n"
      ]
     },
     "metadata": {},
     "output_type": "display_data"
    },
    {
     "data": {
      "text/html": [
       "<pre style=\"white-space:pre;overflow-x:auto;line-height:normal;font-family:Menlo,'DejaVu Sans Mono',consolas,'Courier New',monospace\">Distancia: <span style=\"color: #008080; text-decoration-color: #008080; font-weight: bold\">0.79</span>\n",
       "</pre>\n"
      ],
      "text/plain": [
       "Distancia: \u001b[1;36m0.79\u001b[0m\n"
      ]
     },
     "metadata": {},
     "output_type": "display_data"
    },
    {
     "data": {
      "text/html": [
       "<pre style=\"white-space:pre;overflow-x:auto;line-height:normal;font-family:Menlo,'DejaVu Sans Mono',consolas,'Courier New',monospace\">ID SKU: <span style=\"color: #008080; text-decoration-color: #008080; font-weight: bold\">2518</span>\n",
       "Nombre: Alcaparras Hengstenberg <span style=\"color: #008080; text-decoration-color: #008080; font-weight: bold\">135</span> g\n",
       "Descripción Corta: No Info\n",
       "Descripción Larga: No Info\n",
       "Palabras Clave: <span style=\"color: #008080; text-decoration-color: #008080; font-weight: bold\">4963</span>, Hengstenberg, Alimentos en Conserva, Vegetales en Conserva\n",
       "Descripción Meta: No Info\n",
       "Departamento: Abarrotes\n",
       "Categoría: Encurtidos\n",
       "Marca: Hengstenberg\n",
       "\n",
       "</pre>\n"
      ],
      "text/plain": [
       "ID SKU: \u001b[1;36m2518\u001b[0m\n",
       "Nombre: Alcaparras Hengstenberg \u001b[1;36m135\u001b[0m g\n",
       "Descripción Corta: No Info\n",
       "Descripción Larga: No Info\n",
       "Palabras Clave: \u001b[1;36m4963\u001b[0m, Hengstenberg, Alimentos en Conserva, Vegetales en Conserva\n",
       "Descripción Meta: No Info\n",
       "Departamento: Abarrotes\n",
       "Categoría: Encurtidos\n",
       "Marca: Hengstenberg\n",
       "\n"
      ]
     },
     "metadata": {},
     "output_type": "display_data"
    },
    {
     "data": {
      "text/html": [
       "<pre style=\"white-space:pre;overflow-x:auto;line-height:normal;font-family:Menlo,'DejaVu Sans Mono',consolas,'Courier New',monospace\">Distancia: <span style=\"color: #008080; text-decoration-color: #008080; font-weight: bold\">0.83</span>\n",
       "</pre>\n"
      ],
      "text/plain": [
       "Distancia: \u001b[1;36m0.83\u001b[0m\n"
      ]
     },
     "metadata": {},
     "output_type": "display_data"
    },
    {
     "data": {
      "text/html": [
       "<pre style=\"white-space:pre;overflow-x:auto;line-height:normal;font-family:Menlo,'DejaVu Sans Mono',consolas,'Courier New',monospace\">ID SKU: <span style=\"color: #008080; text-decoration-color: #008080; font-weight: bold\">2573</span>\n",
       "Nombre: Alcaparras Valle Fértil Frasco <span style=\"color: #008080; text-decoration-color: #008080; font-weight: bold\">100</span> g\n",
       "Descripción Corta: No Info\n",
       "Descripción Larga: No Info\n",
       "Palabras Clave: <span style=\"color: #008080; text-decoration-color: #008080; font-weight: bold\">402730</span>, Valle Fértil, Vegetales en Conserva\n",
       "Descripción Meta: No Info\n",
       "Departamento: Abarrotes\n",
       "Categoría: Vegetales en Conserva\n",
       "Marca: Valle Fértil\n",
       "\n",
       "</pre>\n"
      ],
      "text/plain": [
       "ID SKU: \u001b[1;36m2573\u001b[0m\n",
       "Nombre: Alcaparras Valle Fértil Frasco \u001b[1;36m100\u001b[0m g\n",
       "Descripción Corta: No Info\n",
       "Descripción Larga: No Info\n",
       "Palabras Clave: \u001b[1;36m402730\u001b[0m, Valle Fértil, Vegetales en Conserva\n",
       "Descripción Meta: No Info\n",
       "Departamento: Abarrotes\n",
       "Categoría: Vegetales en Conserva\n",
       "Marca: Valle Fértil\n",
       "\n"
      ]
     },
     "metadata": {},
     "output_type": "display_data"
    },
    {
     "data": {
      "text/html": [
       "<pre style=\"white-space:pre;overflow-x:auto;line-height:normal;font-family:Menlo,'DejaVu Sans Mono',consolas,'Courier New',monospace\">Distancia: <span style=\"color: #008080; text-decoration-color: #008080; font-weight: bold\">0.85</span>\n",
       "</pre>\n"
      ],
      "text/plain": [
       "Distancia: \u001b[1;36m0.85\u001b[0m\n"
      ]
     },
     "metadata": {},
     "output_type": "display_data"
    },
    {
     "data": {
      "text/html": [
       "<pre style=\"white-space:pre;overflow-x:auto;line-height:normal;font-family:Menlo,'DejaVu Sans Mono',consolas,'Courier New',monospace\">ID SKU: <span style=\"color: #008080; text-decoration-color: #008080; font-weight: bold\">2574</span>\n",
       "Nombre: Alcaparras Valle Fertil Frasco <span style=\"color: #008080; text-decoration-color: #008080; font-weight: bold\">210</span> g\n",
       "Descripción Corta: No Info\n",
       "Descripción Larga: No Info\n",
       "Palabras Clave: <span style=\"color: #008080; text-decoration-color: #008080; font-weight: bold\">402747</span>,<span style=\"color: #008080; text-decoration-color: #008080; font-weight: bold\">7751033000255</span>,Abarrotes,Vegetales en Conserva,Valle F?rtil\n",
       "Descripción Meta: No Info\n",
       "Departamento: Abarrotes\n",
       "Categoría: Vegetales en Conserva\n",
       "Marca: Valle Fértil\n",
       "\n",
       "</pre>\n"
      ],
      "text/plain": [
       "ID SKU: \u001b[1;36m2574\u001b[0m\n",
       "Nombre: Alcaparras Valle Fertil Frasco \u001b[1;36m210\u001b[0m g\n",
       "Descripción Corta: No Info\n",
       "Descripción Larga: No Info\n",
       "Palabras Clave: \u001b[1;36m402747\u001b[0m,\u001b[1;36m7751033000255\u001b[0m,Abarrotes,Vegetales en Conserva,Valle F?rtil\n",
       "Descripción Meta: No Info\n",
       "Departamento: Abarrotes\n",
       "Categoría: Vegetales en Conserva\n",
       "Marca: Valle Fértil\n",
       "\n"
      ]
     },
     "metadata": {},
     "output_type": "display_data"
    },
    {
     "data": {
      "text/html": [
       "<pre style=\"white-space:pre;overflow-x:auto;line-height:normal;font-family:Menlo,'DejaVu Sans Mono',consolas,'Courier New',monospace\">Distancia: <span style=\"color: #008080; text-decoration-color: #008080; font-weight: bold\">0.87</span>\n",
       "</pre>\n"
      ],
      "text/plain": [
       "Distancia: \u001b[1;36m0.87\u001b[0m\n"
      ]
     },
     "metadata": {},
     "output_type": "display_data"
    },
    {
     "data": {
      "text/html": [
       "<pre style=\"white-space:pre;overflow-x:auto;line-height:normal;font-family:Menlo,'DejaVu Sans Mono',consolas,'Courier New',monospace\">ID SKU: <span style=\"color: #008080; text-decoration-color: #008080; font-weight: bold\">39197050</span>\n",
       "Nombre: Alcaparras en Vinagre Vitalys 110g\n",
       "Descripción Corta: No Info\n",
       "Descripción Larga: <span style=\"font-weight: bold\">&lt;</span><span style=\"color: #ff00ff; text-decoration-color: #ff00ff; font-weight: bold\">li</span><span style=\"color: #000000; text-decoration-color: #000000\">&gt;Contiene </span><span style=\"color: #008080; text-decoration-color: #008080; font-weight: bold\">110</span><span style=\"color: #000000; text-decoration-color: #000000\"> gramos&lt;</span><span style=\"color: #800080; text-decoration-color: #800080\">/</span><span style=\"color: #ff00ff; text-decoration-color: #ff00ff\">li</span><span style=\"color: #000000; text-decoration-color: #000000\">&gt;&lt;li&gt;Alcaparras en conserva&lt;</span><span style=\"color: #800080; text-decoration-color: #800080\">/</span><span style=\"color: #ff00ff; text-decoration-color: #ff00ff\">li</span><span style=\"color: #000000; text-decoration-color: #000000\">&gt;&lt;li&gt;Ricas en antioxidantes y ayudan a</span>\n",
       "<span style=\"color: #000000; text-decoration-color: #000000\">reducir la inflamación en el cuerpo&lt;</span><span style=\"color: #800080; text-decoration-color: #800080\">/</span><span style=\"color: #ff00ff; text-decoration-color: #ff00ff\">li</span><span style=\"font-weight: bold\">&gt;</span>\n",
       "Palabras Clave: <span style=\"color: #008080; text-decoration-color: #008080; font-weight: bold\">903368</span>, Vegetales en Conserva, VITALIS\n",
       "Descripción Meta: ¡Encuentra aquí los mejores productos de Vegetales en Conserva de la marca VITALIS!\n",
       "Departamento: Abarrotes\n",
       "Categoría: Vegetales en Conserva\n",
       "Marca: Vitalis\n",
       "\n",
       "</pre>\n"
      ],
      "text/plain": [
       "ID SKU: \u001b[1;36m39197050\u001b[0m\n",
       "Nombre: Alcaparras en Vinagre Vitalys 110g\n",
       "Descripción Corta: No Info\n",
       "Descripción Larga: \u001b[1m<\u001b[0m\u001b[1;95mli\u001b[0m\u001b[39m>Contiene \u001b[0m\u001b[1;36m110\u001b[0m\u001b[39m gramos<\u001b[0m\u001b[35m/\u001b[0m\u001b[95mli\u001b[0m\u001b[39m><li>Alcaparras en conserva<\u001b[0m\u001b[35m/\u001b[0m\u001b[95mli\u001b[0m\u001b[39m><li>Ricas en antioxidantes y ayudan a\u001b[0m\n",
       "\u001b[39mreducir la inflamación en el cuerpo<\u001b[0m\u001b[35m/\u001b[0m\u001b[95mli\u001b[0m\u001b[1m>\u001b[0m\n",
       "Palabras Clave: \u001b[1;36m903368\u001b[0m, Vegetales en Conserva, VITALIS\n",
       "Descripción Meta: ¡Encuentra aquí los mejores productos de Vegetales en Conserva de la marca VITALIS!\n",
       "Departamento: Abarrotes\n",
       "Categoría: Vegetales en Conserva\n",
       "Marca: Vitalis\n",
       "\n"
      ]
     },
     "metadata": {},
     "output_type": "display_data"
    },
    {
     "data": {
      "text/html": [
       "<pre style=\"white-space:pre;overflow-x:auto;line-height:normal;font-family:Menlo,'DejaVu Sans Mono',consolas,'Courier New',monospace\">Distancia: <span style=\"color: #008080; text-decoration-color: #008080; font-weight: bold\">0.88</span>\n",
       "</pre>\n"
      ],
      "text/plain": [
       "Distancia: \u001b[1;36m0.88\u001b[0m\n"
      ]
     },
     "metadata": {},
     "output_type": "display_data"
    },
    {
     "data": {
      "text/html": [
       "<pre style=\"white-space:pre;overflow-x:auto;line-height:normal;font-family:Menlo,'DejaVu Sans Mono',consolas,'Courier New',monospace\">ID SKU: <span style=\"color: #008080; text-decoration-color: #008080; font-weight: bold\">14423</span>\n",
       "Nombre: Pitacrips Coctel Tabla Gourmet Ajo y Tomillo 100g\n",
       "Descripción Corta: No Info\n",
       "Descripción Larga: No Info\n",
       "Palabras Clave: <span style=\"color: #008080; text-decoration-color: #008080; font-weight: bold\">471164</span>, Tabla Gourmet, Panes y Tortillas Empacadas, Panes Embolsados Especiales\n",
       "Descripción Meta: No Info\n",
       "Departamento: Desayuno\n",
       "Categoría: Panes Embolsados Especiales\n",
       "Marca: Tabla Gourmet\n",
       "\n",
       "</pre>\n"
      ],
      "text/plain": [
       "ID SKU: \u001b[1;36m14423\u001b[0m\n",
       "Nombre: Pitacrips Coctel Tabla Gourmet Ajo y Tomillo 100g\n",
       "Descripción Corta: No Info\n",
       "Descripción Larga: No Info\n",
       "Palabras Clave: \u001b[1;36m471164\u001b[0m, Tabla Gourmet, Panes y Tortillas Empacadas, Panes Embolsados Especiales\n",
       "Descripción Meta: No Info\n",
       "Departamento: Desayuno\n",
       "Categoría: Panes Embolsados Especiales\n",
       "Marca: Tabla Gourmet\n",
       "\n"
      ]
     },
     "metadata": {},
     "output_type": "display_data"
    }
   ],
   "source": [
    "buscar_faiss(\"Alcaparras Gourmet\", top_k=5)"
   ]
  },
  {
   "cell_type": "code",
   "execution_count": null,
   "metadata": {},
   "outputs": [],
   "source": [
    "# random_row = data.sample(1)\n",
    "\n",
    "result_iter = read_large_file(\"results.jsonl\")\n",
    "first_result = json.loads(next(result_iter))\n",
    "first_result[\"response\"][\"body\"][\"data\"][0][\"embedding\"] = \"EMBEDDING\"\n",
    "\n",
    "print(first_result)"
   ]
  }
 ],
 "metadata": {
  "kernelspec": {
   "display_name": "venv",
   "language": "python",
   "name": "python3"
  },
  "language_info": {
   "codemirror_mode": {
    "name": "ipython",
    "version": 3
   },
   "file_extension": ".py",
   "mimetype": "text/x-python",
   "name": "python",
   "nbconvert_exporter": "python",
   "pygments_lexer": "ipython3",
   "version": "3.12.8"
  }
 },
 "nbformat": 4,
 "nbformat_minor": 2
}
